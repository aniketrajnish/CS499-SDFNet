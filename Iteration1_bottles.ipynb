{
  "nbformat": 4,
  "nbformat_minor": 0,
  "metadata": {
    "colab": {
      "name": "Iteration1_bottles.ipynb",
      "provenance": [],
      "include_colab_link": true
    },
    "kernelspec": {
      "name": "python3",
      "display_name": "Python 3"
    },
    "language_info": {
      "name": "python"
    },
    "accelerator": "GPU",
    "gpuClass": "standard"
  },
  "cells": [
    {
      "cell_type": "markdown",
      "metadata": {
        "id": "view-in-github",
        "colab_type": "text"
      },
      "source": [
        "<a href=\"https://colab.research.google.com/github/aniketrajnish/CS499-SDFNet/blob/main/Iteration1_bottles.ipynb\" target=\"_parent\"><img src=\"https://colab.research.google.com/assets/colab-badge.svg\" alt=\"Open In Colab\"/></a>"
      ]
    },
    {
      "cell_type": "markdown",
      "source": [
        "https://pyimagesearch.com/2021/07/19/pytorch-training-your-first-convolutional-neural-network-cnn/\n",
        "https://www.projectpro.io/recipes/crop-and-resize-image-pytorch\n",
        "https://pytorch.org/tutorials/beginner/data_loading_tutorial.html\n"
      ],
      "metadata": {
        "id": "GOqyi5esHyLX"
      }
    },
    {
      "cell_type": "code",
      "source": [
        "from google.colab import drive\n",
        "drive.mount('/content/drive')"
      ],
      "metadata": {
        "colab": {
          "base_uri": "https://localhost:8080/"
        },
        "id": "9UOKl-c5YM54",
        "outputId": "72a06821-babd-4785-f613-72dfa88320fa"
      },
      "execution_count": null,
      "outputs": [
        {
          "output_type": "stream",
          "name": "stdout",
          "text": [
            "Drive already mounted at /content/drive; to attempt to forcibly remount, call drive.mount(\"/content/drive\", force_remount=True).\n"
          ]
        }
      ]
    },
    {
      "cell_type": "code",
      "execution_count": null,
      "metadata": {
        "id": "lX_5UX5U6347"
      },
      "outputs": [],
      "source": [
        "import pandas as pd\n",
        "import numpy as np\n",
        "# import tensorflow.keras as keras\n",
        "# import numpy as np\n",
        "# from tensorflow.keras.preprocessing.image import ImageDataGenerator\n"
      ]
    },
    {
      "cell_type": "code",
      "source": [
        "#!unzip '/content/drive/MyDrive/GraphicsModelRendering/BottleRenders_New.zip' -d '/content/sample_data/new'"
      ],
      "metadata": {
        "id": "DWWbFgPAZu51"
      },
      "execution_count": null,
      "outputs": []
    },
    {
      "cell_type": "code",
      "source": [
        "train_file = '/content/drive/MyDrive/GraphicsModelRendering/BottleVars.csv'\n",
        "\n",
        "train_folder = '/content/drive/MyDrive/GraphicsModelRendering/BottleRenders'"
      ],
      "metadata": {
        "id": "Ydf0E53e70kF"
      },
      "execution_count": null,
      "outputs": []
    },
    {
      "cell_type": "code",
      "source": [
        "#train_df['combined'] = np.asarray(train_df[train_df.columns[1:]].values)"
      ],
      "metadata": {
        "id": "vgnh6Tp_8FEj"
      },
      "execution_count": null,
      "outputs": []
    },
    {
      "cell_type": "code",
      "source": [
        "#train_df = train_df.filter(['Bottle', 'combined'])\n"
      ],
      "metadata": {
        "id": "E8E-PldD86nR"
      },
      "execution_count": null,
      "outputs": []
    },
    {
      "cell_type": "code",
      "source": [
        "# train_gen = ImageDataGenerator(rescale=1./255)\n",
        "# train_data = train_gen.flow_from_dataframe(dataframe=train_df, directory=train_folder, x_col='Bottle',\n",
        "#                                            y_col='combined', batch_size=16, shuffle=True,\n",
        "#                                            class_mode='raw', target_size=(200, 150))"
      ],
      "metadata": {
        "id": "Ve_N9JOQ9dBW"
      },
      "execution_count": null,
      "outputs": []
    },
    {
      "cell_type": "code",
      "source": [
        "import os\n",
        "import torch\n",
        "from torch.utils.data import Dataset\n",
        "from torchvision import datasets\n",
        "from torchvision.transforms import ToTensor\n",
        "from torchvision.io import read_image\n",
        "from skimage import io, transform\n",
        "from torchvision import transforms, utils\n",
        "from torch.utils.data.sampler import SubsetRandomSampler\n",
        "from PIL import Image"
      ],
      "metadata": {
        "id": "wO9PaeSO_tD5"
      },
      "execution_count": null,
      "outputs": []
    },
    {
      "cell_type": "code",
      "source": [
        "class Rescale(object):\n",
        "    \"\"\"Rescale the image in a sample to a given size. Smaller image side is mathced to a given integer.\n",
        "    \"\"\"\n",
        "\n",
        "    def __init__(self, output_size):\n",
        "        assert isinstance(output_size, (int, tuple))\n",
        "        self.output_size = output_size\n",
        "\n",
        "    def __call__(self, sample):\n",
        "        image, labels = sample[0], sample[1]\n",
        "\n",
        "        h, w = image.shape[:2]\n",
        "        if isinstance(self.output_size, int):\n",
        "            if h > w:\n",
        "                new_h, new_w = self.output_size * h / w, self.output_size\n",
        "            else:\n",
        "                new_h, new_w = self.output_size, self.output_size * w / h\n",
        "        else:\n",
        "            new_h, new_w = self.output_size\n",
        "\n",
        "        new_h, new_w = int(new_h), int(new_w)\n",
        "\n",
        "        img = transform.resize(image, (new_h, new_w))\n",
        "\n",
        "        return img,labels\n",
        "\n",
        "\n",
        "class ToTensor(object):\n",
        "    \"\"\"Convert ndarrays in sample to Tensors.\"\"\"\n",
        "\n",
        "    def __call__(self, sample):\n",
        "        image, labels = sample[0], sample[1]\n",
        "\n",
        "        # swap color axis because\n",
        "        # numpy image: H x W x C\n",
        "        # torch image: C x H x W\n",
        "        image = image.transpose((2, 0, 1))\n",
        "        return torch.from_numpy(image), torch.from_numpy(labels)"
      ],
      "metadata": {
        "id": "AMypbRXdy7le"
      },
      "execution_count": null,
      "outputs": []
    },
    {
      "cell_type": "code",
      "source": [
        "class CustomImageDataset(Dataset):\n",
        "    def __init__(self, annotations_file, img_dir, transform=None):\n",
        "        self.img_labels = pd.read_csv(annotations_file)\n",
        "        self.img_dir = img_dir\n",
        "        self.transform = transform\n",
        "\n",
        "    def __len__(self):\n",
        "        return len(self.img_labels)\n",
        "\n",
        "    def __getitem__(self, idx):\n",
        "        if torch.is_tensor(idx):\n",
        "            idx = idx.tolist()\n",
        "        img_path = os.path.join(self.img_dir, self.img_labels.iloc[idx, 0])\n",
        "        im=Image.open(img_path)\n",
        "        im=im.convert('RGB')\n",
        "        image = np.asarray(im)\n",
        "        labels = self.img_labels.iloc[idx, 1:]\n",
        "        labels = np.asarray([labels])\n",
        "        labels = labels.astype('float')\n",
        "        sample=(image,labels)\n",
        "        if self.transform:\n",
        "            sample = self.transform(sample)\n",
        "        return sample"
      ],
      "metadata": {
        "id": "yO7xIzK9BUSd"
      },
      "execution_count": null,
      "outputs": []
    },
    {
      "cell_type": "code",
      "source": [],
      "metadata": {
        "id": "KhQ8X_CuE5Lf"
      },
      "execution_count": null,
      "outputs": []
    },
    {
      "cell_type": "code",
      "source": [
        "dataset = CustomImageDataset(train_file,\n",
        "                                         train_folder,\n",
        "                                         transforms.Compose([Rescale(300),ToTensor()]))"
      ],
      "metadata": {
        "id": "Gzm-5G_vIi7w"
      },
      "execution_count": null,
      "outputs": []
    },
    {
      "cell_type": "code",
      "source": [],
      "metadata": {
        "id": "8_uZ_TSjNK91"
      },
      "execution_count": null,
      "outputs": []
    },
    {
      "cell_type": "code",
      "source": [
        "batch_size = 16\n",
        "validation_split = .05\n",
        "shuffle_dataset = False\n",
        "random_seed= 42\n",
        "\n",
        "dataset_size = len(dataset)\n",
        "indices = list(range(dataset_size))\n",
        "split = int(np.floor(validation_split * dataset_size))\n",
        "if shuffle_dataset :\n",
        "    np.random.seed(random_seed)\n",
        "    np.random.shuffle(indices)\n",
        "train_indices, val_indices = indices[split:], indices[:split]\n",
        "\n",
        "# Creating PT data samplers and loaders:\n",
        "train_sampler = SubsetRandomSampler(train_indices)\n",
        "valid_sampler = SubsetRandomSampler(val_indices)\n",
        "\n",
        "train_loader = torch.utils.data.DataLoader(dataset, batch_size=batch_size, \n",
        "                                           sampler=train_sampler)\n",
        "validation_loader = torch.utils.data.DataLoader(dataset, batch_size=batch_size,\n",
        "                                                sampler=valid_sampler)\n",
        "trainSteps = len(train_loader.dataset) // batch_size\n",
        "valSteps = len(validation_loader.dataset) // batch_size\n"
      ],
      "metadata": {
        "id": "stYaryJLQSid"
      },
      "execution_count": null,
      "outputs": []
    },
    {
      "cell_type": "code",
      "source": [
        "device = \"cuda\" if torch.cuda.is_available() else \"cpu\""
      ],
      "metadata": {
        "id": "zO_S80u4RuEV"
      },
      "execution_count": null,
      "outputs": []
    },
    {
      "cell_type": "code",
      "source": [
        "import torch.nn as nn\n",
        "from torch import flatten\n",
        "from torch.optim import Adam\n",
        "import time\n",
        "import matplotlib.pyplot as plt"
      ],
      "metadata": {
        "id": "GU1RaMVWSTES"
      },
      "execution_count": null,
      "outputs": []
    },
    {
      "cell_type": "code",
      "source": [
        "class My_Model(Module):\n",
        "  def __init__(self, numChannels, num_classes):\n",
        "\t\t# call the parent constructor\n",
        "    super(My_LeNet, self).__init__()\n",
        "    self.features = nn.Sequential(\n",
        "            nn.Conv2d(numChannels, 64, kernel_size=11, stride=4, padding=2),\n",
        "            nn.ReLU(inplace=True),\n",
        "            nn.MaxPool2d(kernel_size=3, stride=2),\n",
        "            nn.Conv2d(64, 192, kernel_size=5, padding=2),\n",
        "            nn.ReLU(inplace=True),\n",
        "            nn.MaxPool2d(kernel_size=3, stride=2),\n",
        "            nn.Conv2d(192, 384, kernel_size=3, padding=1),\n",
        "            nn.ReLU(inplace=True),\n",
        "            nn.Conv2d(384, 256, kernel_size=3, padding=1),\n",
        "            nn.ReLU(inplace=True),\n",
        "            # nn.Conv2d(256, 256, kernel_size=3, padding=1),\n",
        "            # nn.ReLU(inplace=True),\n",
        "            # nn.MaxPool2d(kernel_size=3, stride=2),\n",
        "        )\n",
        "    self.avgpool = nn.AdaptiveAvgPool2d((6, 6))\n",
        "    self.dense = nn.Sequential(\n",
        "            nn.Dropout(p=0.1),\n",
        "            nn.Linear(256 * 6 * 6, 2048),\n",
        "            nn.ReLU(inplace=True),\n",
        "            nn.Dropout(p=0.1),\n",
        "            nn.Linear(2048, num_classes),\n",
        "            nn.ReLU(inplace=True),\n",
        "        )\n",
        "\n",
        "  def forward(self, x: torch.Tensor) -> torch.Tensor:\n",
        "    x = self.features(x)\n",
        "    x = self.avgpool(x)\n",
        "    x = torch.flatten(x, 1)\n",
        "    x = self.dense(x)\n",
        "    return x"
      ],
      "metadata": {
        "id": "XCAZwuiISyPB"
      },
      "execution_count": null,
      "outputs": []
    },
    {
      "cell_type": "markdown",
      "source": [],
      "metadata": {
        "id": "OUgpmowzHwUo"
      }
    },
    {
      "cell_type": "code",
      "source": [
        "model = My_Model(\n",
        "\tnumChannels=3,\n",
        "\tnum_classes=19).to(device)"
      ],
      "metadata": {
        "id": "s9X06Hr3VJVr"
      },
      "execution_count": null,
      "outputs": []
    },
    {
      "cell_type": "code",
      "source": [
        "INIT_LR = 1e-3\n",
        "opt = Adam(model.parameters(), lr=INIT_LR)\n",
        "lossFn = torch.nn.L1Loss()"
      ],
      "metadata": {
        "id": "cLFuTYGxVrLq"
      },
      "execution_count": null,
      "outputs": []
    },
    {
      "cell_type": "code",
      "source": [
        "H = {\n",
        "\t\"train_loss\": [],\n",
        "\t\"val_loss\": [],\n",
        "}\n"
      ],
      "metadata": {
        "id": "o6947BQBWsAG"
      },
      "execution_count": null,
      "outputs": []
    },
    {
      "cell_type": "code",
      "source": [
        "EPOCHS=8\n",
        "startTime = time.time()\n",
        "def my_loss(output, target):\n",
        "    loss = torch.mean(abs((output - target)/output))\n",
        "    return loss\n",
        "for e in range(0, EPOCHS):\n",
        "  # set the model in training mode\n",
        "  model.train()\n",
        "  # initialize the total training and validation loss\n",
        "  totalTrainLoss = 0\n",
        "  totalValLoss = 0\n",
        "  # initialize the number of correct predictions in the training\n",
        "  # and validation step\n",
        "  trainCorrect = 0\n",
        "  valCorrect = 0\n",
        "\t# loop over the training set\n",
        "  \n",
        "  loss=torch.zeros([1], dtype=torch.float32, device=device)\n",
        "  for (x, y) in train_loader:\n",
        "    # send the input to the device\n",
        "    (x, y) = (x.to(device), y.to(device))\n",
        "    # perform a forward pass and calculate the training loss\n",
        "    x=x.type(torch.float)\n",
        "    y=y.type(torch.float)\n",
        "    pred = model(x)\n",
        "    loss=my_loss(pred,y)\n",
        "    # zero out the gradients, perform the backpropagation step,\n",
        "    # and update the weights\n",
        "    opt.zero_grad()\n",
        "    loss.backward()\n",
        "    opt.step()\n",
        "    # add the loss to the total training loss so far and\n",
        "    # calculate the number of correct predictions\n",
        "    totalTrainLoss += loss\n",
        "    \n",
        "  with torch.no_grad():\n",
        "\t\t# set the model in evaluation mode\n",
        "    model.eval()\n",
        "    # loop over the validation set\n",
        "    for (x, y) in validation_loader:\n",
        "      # send the input to the device\n",
        "      \n",
        "      (x, y) = (x.to(device), y.to(device))\n",
        "      # make the predictions and calculate the validation loss\n",
        "      x=x.type(torch.float)\n",
        "      pred = model(x)\n",
        "      print(pred)\n",
        "      totalValLoss += (lossFn(pred, y)*19)\n",
        "      \n",
        "  avgTrainLoss = totalTrainLoss / trainSteps\n",
        "  avgValLoss = totalValLoss / valSteps\n",
        "\t# calculate the training and validation accuracy\n",
        "  trainCorrect = trainCorrect / len(train_loader.dataset)\n",
        "  valCorrect = valCorrect / len(validation_loader.dataset)\n",
        "  # update our training history\n",
        "  H[\"train_loss\"].append(avgTrainLoss.cpu().detach().numpy())\n",
        "  H[\"val_loss\"].append(avgValLoss.cpu().detach().numpy())\n",
        "  # print the model training and validation information\n",
        "  print(\"[INFO] EPOCH: {}/{}\".format(e + 1, EPOCHS))\n",
        "\n",
        "endTime = time.time()"
      ],
      "metadata": {
        "id": "Z1bN8ng2W-1T"
      },
      "execution_count": null,
      "outputs": []
    },
    {
      "cell_type": "code",
      "source": [
        "plt.style.use(\"ggplot\")\n",
        "plt.figure()\n",
        "plt.plot(H[\"train_loss\"], label=\"train_loss\")\n",
        "#plt.plot(H[\"val_loss\"], label=\"val_loss\")\n",
        "\n",
        "plt.title(\"Training Loss on Dataset\")\n",
        "plt.xlabel(\"Epoch #\")\n",
        "plt.ylabel(\"Loss\")\n",
        "plt.show()"
      ],
      "metadata": {
        "colab": {
          "base_uri": "https://localhost:8080/",
          "height": 299
        },
        "id": "0SatcTQEbEqt",
        "outputId": "84d44fd0-e953-474e-e4ae-a6bd219dabbd"
      },
      "execution_count": null,
      "outputs": [
        {
          "output_type": "display_data",
          "data": {
            "text/plain": [
              "<Figure size 432x288 with 1 Axes>"
            ],
            "image/png": "[encoded data removed]"
          },
          "metadata": {}
        }
      ]
    },
    {
      "cell_type": "code",
      "source": [
        "# import torchvision.transforms.functional as fn\n",
        "# img_path='/content/drive/MyDrive/GraphicsModelRendering/BottleRenders/Bottle1.png'\n",
        "# im=Image.open(img_path)\n",
        "# im=im.convert('RGB')\n",
        "# width, height = im.size\n",
        "# im.show()\n",
        "# # Setting the points for cropped image\n",
        "# left = 320\n",
        "# top = 0\n",
        "# right = 560\n",
        "# bottom = 2.6 * height / 4\n",
        " \n",
        "# # Cropped image of above dimension\n",
        "# # (It will not change original image)\n",
        "# im1 = im.crop((left, top, right, bottom))\n",
        " \n",
        "# # Shows the image in image viewer\n",
        "# im1.show()\n"
      ],
      "metadata": {
        "id": "J7B2I0-q8dSg"
      },
      "execution_count": null,
      "outputs": []
    },
    {
      "cell_type": "code",
      "source": [
        "# test_dataset = CustomImageDataset(test_file,\n",
        "#                                          test_folder,\n",
        "#                                          transforms.Compose([Rescale(150),ToTensor()]))"
      ],
      "metadata": {
        "id": "CybEWCkIC7x_"
      },
      "execution_count": null,
      "outputs": []
    },
    {
      "cell_type": "code",
      "source": [
        "torch.save(model.state_dict(), '/content/drive/MyDrive/GraphicsModelRendering/alexnet_new.h5')"
      ],
      "metadata": {
        "id": "dmVFM4R6C97C"
      },
      "execution_count": null,
      "outputs": []
    },
    {
      "cell_type": "code",
      "source": [],
      "metadata": {
        "id": "-ZpOeYLeDe1Y"
      },
      "execution_count": null,
      "outputs": []
    },
    {
      "cell_type": "code",
      "source": [],
      "metadata": {
        "colab": {
          "base_uri": "https://localhost:8080/"
        },
        "id": "zJn_wmRktgxj",
        "outputId": "9255ada1-af13-4b62-b844-a45af7ee4fa9"
      },
      "execution_count": null,
      "outputs": [
        {
          "output_type": "stream",
          "name": "stdout",
          "text": [
            "Drive already mounted at /content/drive; to attempt to forcibly remount, call drive.mount(\"/content/drive\", force_remount=True).\n"
          ]
        }
      ]
    }
  ]
}